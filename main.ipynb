{
 "cells": [
  {
   "cell_type": "markdown",
   "id": "071a4240",
   "metadata": {
    "pycharm": {
     "name": "#%% md\n"
    }
   },
   "source": [
    "# Train transformer"
   ]
  },
  {
   "cell_type": "code",
   "execution_count": 7,
   "id": "5d29b0aa",
   "metadata": {
    "pycharm": {
     "name": "#%%\n"
    }
   },
   "outputs": [
    {
     "name": "stdout",
     "output_type": "stream",
     "text": [
      "The autoreload extension is already loaded. To reload it, use:\n",
      "  %reload_ext autoreload\n"
     ]
    }
   ],
   "source": [
    "import torch\n",
    "from torch import nn\n",
    "from torch.optim import Adam, SGD\n",
    "from torch.optim.lr_scheduler import MultiStepLR\n",
    "import numpy as np\n",
    "import matplotlib.pyplot as plt\n",
    "import pandas as pd\n",
    "\n",
    "from transformers import AutoTokenizer\n",
    "from utils.data_utils import AG_NEWS_DATASET\n",
    "from utils.constants import *\n",
    "from model.transformer import Transformer as Transformer_origin\n",
    "from utils.training import Learner\n",
    "\n",
    "from quantization.binarize import binarize, binarize_origin\n",
    "from quantization.transformer_raw import Transformer\n",
    "\n",
    "%load_ext autoreload\n",
    "%autoreload 2"
   ]
  },
  {
   "cell_type": "code",
   "execution_count": 14,
   "id": "d3f25f80",
   "metadata": {
    "pycharm": {
     "name": "#%%\n"
    }
   },
   "outputs": [
    {
     "name": "stdout",
     "output_type": "stream",
     "text": [
      "Transformer(\n",
      "  (input_embeddings): Embeddings(\n",
      "    (token_embedding): Embedding(30522, 512)\n",
      "    (pos_embedding): Embedding(512, 512)\n",
      "  )\n",
      "  (input_encodings): PositionalEncoding(\n",
      "    (dropout): Dropout(p=0.1, inplace=False)\n",
      "  )\n",
      "  (sublayer_attention): ModuleList(\n",
      "    (0): sublayerConnectionAttention(\n",
      "      (multiheads): MultiheadAttention(\n",
      "        (heads): ModuleList(\n",
      "          (0): Linear(in_features=512, out_features=512, bias=True)\n",
      "          (1): Linear(in_features=512, out_features=512, bias=True)\n",
      "          (2): Linear(in_features=512, out_features=512, bias=True)\n",
      "        )\n",
      "        (output): Linear(in_features=512, out_features=512, bias=True)\n",
      "        (dropout): Dropout(p=0.1, inplace=False)\n",
      "      )\n",
      "      (layernorm): LayerNorm()\n",
      "      (dropout): Dropout(p=0.1, inplace=False)\n",
      "    )\n",
      "    (1): sublayerConnectionAttention(\n",
      "      (multiheads): MultiheadAttention(\n",
      "        (heads): ModuleList(\n",
      "          (0): Linear(in_features=512, out_features=512, bias=True)\n",
      "          (1): Linear(in_features=512, out_features=512, bias=True)\n",
      "          (2): Linear(in_features=512, out_features=512, bias=True)\n",
      "        )\n",
      "        (output): Linear(in_features=512, out_features=512, bias=True)\n",
      "        (dropout): Dropout(p=0.1, inplace=False)\n",
      "      )\n",
      "      (layernorm): LayerNorm()\n",
      "      (dropout): Dropout(p=0.1, inplace=False)\n",
      "    )\n",
      "  )\n",
      "  (sublayer_ffn): ModuleList(\n",
      "    (0): sublayerConnectionFFN(\n",
      "      (ffn): PositionalWiseFFN(\n",
      "        (w_1): BinarizedLinear (512 -> 1024)\n",
      "        (w_2): BinarizedLinear (1024 -> 512)\n",
      "        (dropout): Dropout(p=0.1, inplace=False)\n",
      "      )\n",
      "      (layernorm): LayerNorm()\n",
      "      (dropout): Dropout(p=0.1, inplace=False)\n",
      "    )\n",
      "    (1): sublayerConnectionFFN(\n",
      "      (ffn): PositionalWiseFFN(\n",
      "        (w_1): BinarizedLinear (512 -> 1024)\n",
      "        (w_2): BinarizedLinear (1024 -> 512)\n",
      "        (dropout): Dropout(p=0.1, inplace=False)\n",
      "      )\n",
      "      (layernorm): LayerNorm()\n",
      "      (dropout): Dropout(p=0.1, inplace=False)\n",
      "    )\n",
      "  )\n",
      "  (classifier): Classifier(\n",
      "    (hidden): Linear(in_features=512, out_features=1024, bias=True)\n",
      "    (classifier): Linear(in_features=1024, out_features=4, bias=True)\n",
      "  )\n",
      ")\n"
     ]
    }
   ],
   "source": [
    "# load dataset\n",
    "tokenizer = AutoTokenizer.from_pretrained(\"bert-base-uncased\")\n",
    "train_dl, test_dl = AG_NEWS_DATASET(tokenizer, batch_size = BATCH_SIZE).load_data()\n",
    "\n",
    "# create model\n",
    "model = Transformer(d_model=BASELINE_MODEL_DIM,\n",
    "                    d_ff=BASELINE_FFN_DIM,\n",
    "                    d_hidden=BASELINE_HIDDEN_DIM,\n",
    "                    h=BASELINE_MODEL_NUMBER_OF_HEADS,\n",
    "                    n_layers=BASELINE_MODEL_NUMBER_OF_LAYERS,\n",
    "                    n_class=4,\n",
    "                    vocab=tokenizer.vocab_size\n",
    "                   )\n",
    "\n",
    "binarize(model, 'FFN_ONLY')\n",
    "print(model)\n",
    "\n",
    "# loss func\n",
    "loss_fn = nn.CrossEntropyLoss()\n",
    "\n",
    "# baseline training config -> do not change!\n",
    "optim = Adam(model.parameters(), lr= 1e-4)\n",
    "scheduler = MultiStepLR(optim, milestones=[10,15], gamma=0.1)\n",
    "\n",
    "train_config ={'model': model,\n",
    "               'loss_fn': loss_fn,\n",
    "               'optim': optim,\n",
    "               'scheduler': scheduler,\n",
    "               'datasets': [train_dl, test_dl],\n",
    "               'epochs': 10,\n",
    "               'batch_size': BATCH_SIZE\n",
    "               }\n",
    "\n",
    "train_config['exp_name'] = 'transformer_binarization_FFN_ONLY'\n",
    "\n",
    "# training\n",
    "learner_ag_news = Learner(train_config)"
   ]
  },
  {
   "cell_type": "code",
   "execution_count": 15,
   "id": "e7321ebf",
   "metadata": {
    "pycharm": {
     "name": "#%%\n"
    }
   },
   "outputs": [
    {
     "name": "stderr",
     "output_type": "stream",
     "text": [
      "\r",
      "  0%|                                                    | 0/10 [00:00<?, ?it/s]"
     ]
    },
    {
     "name": "stdout",
     "output_type": "stream",
     "text": [
      "current lr 1.00000e-04\n",
      "Epoch: [0][0/3750]\tLoss 790.5084\tPrec@1 3.125\n",
      "Epoch: [0][100/3750]\tLoss 794.2428\tPrec@1 31.900\n",
      "Epoch: [0][200/3750]\tLoss 483.2325\tPrec@1 28.638\n",
      "Epoch: [0][300/3750]\tLoss 364.5698\tPrec@1 28.644\n",
      "Epoch: [0][400/3750]\tLoss 302.0592\tPrec@1 28.499\n",
      "Epoch: [0][500/3750]\tLoss 262.1268\tPrec@1 28.493\n",
      "Epoch: [0][600/3750]\tLoss 234.1791\tPrec@1 28.291\n",
      "Epoch: [0][700/3750]\tLoss 211.3285\tPrec@1 28.196\n",
      "Epoch: [0][800/3750]\tLoss 193.3300\tPrec@1 28.223\n",
      "Epoch: [0][900/3750]\tLoss 178.5055\tPrec@1 28.014\n",
      "Epoch: [0][1000/3750]\tLoss 165.4602\tPrec@1 28.131\n",
      "Epoch: [0][1100/3750]\tLoss 154.2756\tPrec@1 28.247\n",
      "Epoch: [0][1200/3750]\tLoss 144.7231\tPrec@1 28.193\n",
      "Epoch: [0][1300/3750]\tLoss 136.2696\tPrec@1 28.192\n",
      "Epoch: [0][1400/3750]\tLoss 128.7231\tPrec@1 28.129\n",
      "Epoch: [0][1500/3750]\tLoss 121.8323\tPrec@1 28.115\n",
      "Epoch: [0][1600/3750]\tLoss 115.6597\tPrec@1 28.111\n",
      "Epoch: [0][1700/3750]\tLoss 110.0748\tPrec@1 28.072\n",
      "Epoch: [0][1800/3750]\tLoss 104.9048\tPrec@1 28.212\n",
      "Epoch: [0][1900/3750]\tLoss 100.1867\tPrec@1 28.171\n",
      "Epoch: [0][2000/3750]\tLoss 95.8175\tPrec@1 28.161\n",
      "Epoch: [0][2100/3750]\tLoss 91.7387\tPrec@1 28.235\n",
      "Epoch: [0][2200/3750]\tLoss 87.9475\tPrec@1 28.315\n",
      "Epoch: [0][2300/3750]\tLoss 84.4247\tPrec@1 28.391\n",
      "Epoch: [0][2400/3750]\tLoss 81.1379\tPrec@1 28.446\n",
      "Epoch: [0][2500/3750]\tLoss 78.0759\tPrec@1 28.466\n",
      "Epoch: [0][2600/3750]\tLoss 75.2088\tPrec@1 28.585\n",
      "Epoch: [0][2700/3750]\tLoss 72.5222\tPrec@1 28.585\n",
      "Epoch: [0][2800/3750]\tLoss 70.0079\tPrec@1 28.528\n",
      "Epoch: [0][2900/3750]\tLoss 67.6615\tPrec@1 28.499\n",
      "Epoch: [0][3000/3750]\tLoss 65.4657\tPrec@1 28.471\n",
      "Epoch: [0][3100/3750]\tLoss 63.4088\tPrec@1 28.523\n",
      "Epoch: [0][3200/3750]\tLoss 61.4830\tPrec@1 28.409\n",
      "Epoch: [0][3300/3750]\tLoss 59.6686\tPrec@1 28.433\n",
      "Epoch: [0][3400/3750]\tLoss 57.9620\tPrec@1 28.364\n",
      "Epoch: [0][3500/3750]\tLoss 56.3524\tPrec@1 28.304\n",
      "Epoch: [0][3600/3750]\tLoss 54.8302\tPrec@1 28.305\n",
      "Epoch: [0][3700/3750]\tLoss 53.3912\tPrec@1 28.269\n",
      "Epoch[0] *Validation*: Prec@1 26.632\n"
     ]
    },
    {
     "name": "stderr",
     "output_type": "stream",
     "text": [
      "\r",
      " 10%|████▍                                       | 1/10 [01:30<13:35, 90.60s/it]"
     ]
    },
    {
     "name": "stdout",
     "output_type": "stream",
     "text": [
      "current lr 1.00000e-04\n",
      "Epoch: [1][0/3750]\tLoss 1.7176\tPrec@1 9.375\n",
      "Epoch: [1][100/3750]\tLoss 1.8472\tPrec@1 27.785\n",
      "Epoch: [1][200/3750]\tLoss 1.6973\tPrec@1 28.172\n",
      "Epoch: [1][300/3750]\tLoss 1.6448\tPrec@1 28.270\n",
      "Epoch: [1][400/3750]\tLoss 1.6110\tPrec@1 28.296\n",
      "Epoch: [1][500/3750]\tLoss 1.5763\tPrec@1 29.279\n",
      "Epoch: [1][600/3750]\tLoss 1.5645\tPrec@1 29.134\n",
      "Epoch: [1][700/3750]\tLoss 1.5599\tPrec@1 28.950\n",
      "Epoch: [1][800/3750]\tLoss 1.5456\tPrec@1 28.983\n",
      "Epoch: [1][900/3750]\tLoss 1.5380\tPrec@1 29.030\n",
      "Epoch: [1][1000/3750]\tLoss 1.5301\tPrec@1 28.993\n",
      "Epoch: [1][1100/3750]\tLoss 1.5193\tPrec@1 29.314\n",
      "Epoch: [1][1200/3750]\tLoss 1.5140\tPrec@1 29.366\n",
      "Epoch: [1][1300/3750]\tLoss 1.5064\tPrec@1 29.624\n",
      "Epoch: [1][1400/3750]\tLoss 1.5021\tPrec@1 29.550\n",
      "Epoch: [1][1500/3750]\tLoss 1.4976\tPrec@1 29.620\n",
      "Epoch: [1][1600/3750]\tLoss 1.4932\tPrec@1 29.614\n",
      "Epoch: [1][1700/3750]\tLoss 1.4908\tPrec@1 29.573\n",
      "Epoch: [1][1800/3750]\tLoss 1.4856\tPrec@1 29.782\n",
      "Epoch: [1][1900/3750]\tLoss 1.4835\tPrec@1 29.748\n",
      "Epoch: [1][2000/3750]\tLoss 1.4810\tPrec@1 29.791\n",
      "Epoch: [1][2100/3750]\tLoss 1.4786\tPrec@1 29.711\n",
      "Epoch: [1][2200/3750]\tLoss 1.4762\tPrec@1 29.819\n",
      "Epoch: [1][2300/3750]\tLoss 1.4727\tPrec@1 29.973\n",
      "Epoch: [1][2400/3750]\tLoss 1.4690\tPrec@1 30.086\n",
      "Epoch: [1][2500/3750]\tLoss 1.4662\tPrec@1 30.293\n",
      "Epoch: [1][2600/3750]\tLoss 1.4651\tPrec@1 30.432\n",
      "Epoch: [1][2700/3750]\tLoss 1.4618\tPrec@1 30.541\n",
      "Epoch: [1][2800/3750]\tLoss 1.4592\tPrec@1 30.603\n",
      "Epoch: [1][2900/3750]\tLoss 1.4581\tPrec@1 30.694\n",
      "Epoch: [1][3000/3750]\tLoss 1.4552\tPrec@1 30.770\n",
      "Epoch: [1][3100/3750]\tLoss 1.4515\tPrec@1 31.062\n",
      "Epoch: [1][3200/3750]\tLoss 1.4480\tPrec@1 31.236\n",
      "Epoch: [1][3300/3750]\tLoss 1.4406\tPrec@1 31.682\n",
      "Epoch: [1][3400/3750]\tLoss 1.4332\tPrec@1 32.084\n",
      "Epoch: [1][3500/3750]\tLoss 1.4253\tPrec@1 32.521\n",
      "Epoch: [1][3600/3750]\tLoss 1.4142\tPrec@1 33.086\n",
      "Epoch: [1][3700/3750]\tLoss 1.4031\tPrec@1 33.590\n",
      "Epoch[1] *Validation*: Prec@1 51.553\n"
     ]
    },
    {
     "name": "stderr",
     "output_type": "stream",
     "text": [
      "\r",
      " 20%|████████▊                                   | 2/10 [03:02<12:09, 91.23s/it]"
     ]
    },
    {
     "name": "stdout",
     "output_type": "stream",
     "text": [
      "current lr 1.00000e-04\n",
      "Epoch: [2][0/3750]\tLoss 1.3125\tPrec@1 15.625\n",
      "Epoch: [2][100/3750]\tLoss 1.7825\tPrec@1 38.335\n",
      "Epoch: [2][200/3750]\tLoss 1.4396\tPrec@1 44.590\n",
      "Epoch: [2][300/3750]\tLoss 1.2807\tPrec@1 48.702\n",
      "Epoch: [2][400/3750]\tLoss 1.1833\tPrec@1 51.543\n",
      "Epoch: [2][500/3750]\tLoss 1.1192\tPrec@1 54.061\n",
      "Epoch: [2][600/3750]\tLoss 1.0809\tPrec@1 55.356\n",
      "Epoch: [2][700/3750]\tLoss 1.0446\tPrec@1 56.513\n",
      "Epoch: [2][800/3750]\tLoss 1.0102\tPrec@1 57.799\n",
      "Epoch: [2][900/3750]\tLoss 0.9849\tPrec@1 58.758\n",
      "Epoch: [2][1000/3750]\tLoss 0.9609\tPrec@1 59.828\n",
      "Epoch: [2][1100/3750]\tLoss 0.9330\tPrec@1 61.160\n",
      "Epoch: [2][1200/3750]\tLoss 0.9129\tPrec@1 62.149\n",
      "Epoch: [2][1300/3750]\tLoss 0.8929\tPrec@1 63.127\n",
      "Epoch: [2][1400/3750]\tLoss 0.8743\tPrec@1 64.079\n",
      "Epoch: [2][1500/3750]\tLoss 0.8569\tPrec@1 64.948\n",
      "Epoch: [2][1600/3750]\tLoss 0.8422\tPrec@1 65.650\n",
      "Epoch: [2][1700/3750]\tLoss 0.8285\tPrec@1 66.299\n",
      "Epoch: [2][1800/3750]\tLoss 0.8235\tPrec@1 66.789\n",
      "Epoch: [2][1900/3750]\tLoss 0.8201\tPrec@1 67.021\n",
      "Epoch: [2][2000/3750]\tLoss 0.8070\tPrec@1 67.599\n",
      "Epoch: [2][2100/3750]\tLoss 0.7952\tPrec@1 68.237\n",
      "Epoch: [2][2200/3750]\tLoss 0.7819\tPrec@1 68.847\n",
      "Epoch: [2][2300/3750]\tLoss 0.7663\tPrec@1 69.599\n",
      "Epoch: [2][2400/3750]\tLoss 0.7510\tPrec@1 70.330\n",
      "Epoch: [2][2500/3750]\tLoss 0.7336\tPrec@1 71.114\n",
      "Epoch: [2][2600/3750]\tLoss 0.7191\tPrec@1 71.781\n",
      "Epoch: [2][2700/3750]\tLoss 0.7077\tPrec@1 72.309\n",
      "Epoch: [2][2800/3750]\tLoss 0.6965\tPrec@1 72.805\n",
      "Epoch: [2][2900/3750]\tLoss 0.6846\tPrec@1 73.330\n",
      "Epoch: [2][3000/3750]\tLoss 0.6731\tPrec@1 73.815\n",
      "Epoch: [2][3100/3750]\tLoss 0.6633\tPrec@1 74.231\n",
      "Epoch: [2][3200/3750]\tLoss 0.6540\tPrec@1 74.642\n",
      "Epoch: [2][3300/3750]\tLoss 0.6455\tPrec@1 75.055\n",
      "Epoch: [2][3400/3750]\tLoss 0.6372\tPrec@1 75.418\n",
      "Epoch: [2][3500/3750]\tLoss 0.6281\tPrec@1 75.795\n",
      "Epoch: [2][3600/3750]\tLoss 0.6195\tPrec@1 76.170\n",
      "Epoch: [2][3700/3750]\tLoss 0.6119\tPrec@1 76.516\n",
      "Epoch[2] *Validation*: Prec@1 89.684\n"
     ]
    },
    {
     "name": "stderr",
     "output_type": "stream",
     "text": [
      "\r",
      " 30%|█████████████▏                              | 3/10 [04:33<10:38, 91.23s/it]"
     ]
    },
    {
     "name": "stdout",
     "output_type": "stream",
     "text": [
      "current lr 1.00000e-04\n",
      "Epoch: [3][0/3750]\tLoss 0.6024\tPrec@1 81.250\n",
      "Epoch: [3][100/3750]\tLoss 1.7343\tPrec@1 68.967\n",
      "Epoch: [3][200/3750]\tLoss 1.1656\tPrec@1 74.471\n",
      "Epoch: [3][300/3750]\tLoss 0.9301\tPrec@1 77.803\n",
      "Epoch: [3][400/3750]\tLoss 0.7926\tPrec@1 80.214\n",
      "Epoch: [3][500/3750]\tLoss 0.7105\tPrec@1 81.662\n",
      "Epoch: [3][600/3750]\tLoss 0.6533\tPrec@1 82.810\n",
      "Epoch: [3][700/3750]\tLoss 0.6064\tPrec@1 83.746\n",
      "Epoch: [3][800/3750]\tLoss 0.5690\tPrec@1 84.543\n",
      "Epoch: [3][900/3750]\tLoss 0.5454\tPrec@1 84.982\n",
      "Epoch: [3][1000/3750]\tLoss 0.5249\tPrec@1 85.430\n",
      "Epoch: [3][1100/3750]\tLoss 0.5045\tPrec@1 85.845\n",
      "Epoch: [3][1200/3750]\tLoss 0.4882\tPrec@1 86.100\n",
      "Epoch: [3][1300/3750]\tLoss 0.4743\tPrec@1 86.412\n",
      "Epoch: [3][1400/3750]\tLoss 0.4617\tPrec@1 86.684\n",
      "Epoch: [3][1500/3750]\tLoss 0.4515\tPrec@1 86.865\n",
      "Epoch: [3][1600/3750]\tLoss 0.4431\tPrec@1 87.049\n",
      "Epoch: [3][1700/3750]\tLoss 0.4343\tPrec@1 87.221\n",
      "Epoch: [3][1800/3750]\tLoss 0.4266\tPrec@1 87.373\n",
      "Epoch: [3][1900/3750]\tLoss 0.4231\tPrec@1 87.433\n",
      "Epoch: [3][2000/3750]\tLoss 0.4191\tPrec@1 87.500\n",
      "Epoch: [3][2100/3750]\tLoss 0.4129\tPrec@1 87.649\n",
      "Epoch: [3][2200/3750]\tLoss 0.4063\tPrec@1 87.800\n",
      "Epoch: [3][2300/3750]\tLoss 0.4018\tPrec@1 87.924\n",
      "Epoch: [3][2400/3750]\tLoss 0.3949\tPrec@1 88.104\n",
      "Epoch: [3][2500/3750]\tLoss 0.3862\tPrec@1 88.350\n",
      "Epoch: [3][2600/3750]\tLoss 0.3792\tPrec@1 88.557\n",
      "Epoch: [3][2700/3750]\tLoss 0.3748\tPrec@1 88.652\n",
      "Epoch: [3][2800/3750]\tLoss 0.3711\tPrec@1 88.732\n",
      "Epoch: [3][2900/3750]\tLoss 0.3667\tPrec@1 88.838\n",
      "Epoch: [3][3000/3750]\tLoss 0.3622\tPrec@1 88.969\n",
      "Epoch: [3][3100/3750]\tLoss 0.3584\tPrec@1 89.064\n",
      "Epoch: [3][3200/3750]\tLoss 0.3547\tPrec@1 89.140\n",
      "Epoch: [3][3300/3750]\tLoss 0.3513\tPrec@1 89.253\n",
      "Epoch: [3][3400/3750]\tLoss 0.3489\tPrec@1 89.305\n",
      "Epoch: [3][3500/3750]\tLoss 0.3468\tPrec@1 89.357\n",
      "Epoch: [3][3600/3750]\tLoss 0.3441\tPrec@1 89.437\n",
      "Epoch: [3][3700/3750]\tLoss 0.3412\tPrec@1 89.515\n",
      "Epoch[3] *Validation*: Prec@1 89.921\n"
     ]
    },
    {
     "name": "stderr",
     "output_type": "stream",
     "text": [
      "\r",
      " 40%|█████████████████▌                          | 4/10 [06:05<09:08, 91.38s/it]"
     ]
    },
    {
     "name": "stdout",
     "output_type": "stream",
     "text": [
      "current lr 1.00000e-04\n",
      "Epoch: [4][0/3750]\tLoss 0.3630\tPrec@1 87.500\n",
      "Epoch: [4][100/3750]\tLoss 0.8764\tPrec@1 81.157\n",
      "Epoch: [4][200/3750]\tLoss 0.6307\tPrec@1 83.986\n",
      "Epoch: [4][300/3750]\tLoss 0.5300\tPrec@1 85.694\n",
      "Epoch: [4][400/3750]\tLoss 0.4646\tPrec@1 86.993\n",
      "Epoch: [4][500/3750]\tLoss 0.4359\tPrec@1 87.731\n",
      "Epoch: [4][600/3750]\tLoss 0.4074\tPrec@1 88.457\n",
      "Epoch: [4][700/3750]\tLoss 0.3805\tPrec@1 89.118\n",
      "Epoch: [4][800/3750]\tLoss 0.3620\tPrec@1 89.533\n",
      "Epoch: [4][900/3750]\tLoss 0.3521\tPrec@1 89.706\n",
      "Epoch: [4][1000/3750]\tLoss 0.3414\tPrec@1 89.951\n",
      "Epoch: [4][1100/3750]\tLoss 0.3302\tPrec@1 90.174\n",
      "Epoch: [4][1200/3750]\tLoss 0.3224\tPrec@1 90.321\n",
      "Epoch: [4][1300/3750]\tLoss 0.3138\tPrec@1 90.510\n",
      "Epoch: [4][1400/3750]\tLoss 0.3084\tPrec@1 90.623\n",
      "Epoch: [4][1500/3750]\tLoss 0.3050\tPrec@1 90.700\n",
      "Epoch: [4][1600/3750]\tLoss 0.3008\tPrec@1 90.787\n",
      "Epoch: [4][1700/3750]\tLoss 0.2959\tPrec@1 90.897\n",
      "Epoch: [4][1800/3750]\tLoss 0.2913\tPrec@1 90.991\n",
      "Epoch: [4][1900/3750]\tLoss 0.2892\tPrec@1 91.003\n",
      "Epoch: [4][2000/3750]\tLoss 0.2870\tPrec@1 91.044\n",
      "Epoch: [4][2100/3750]\tLoss 0.2834\tPrec@1 91.132\n",
      "Epoch: [4][2200/3750]\tLoss 0.2796\tPrec@1 91.244\n",
      "Epoch: [4][2300/3750]\tLoss 0.2771\tPrec@1 91.303\n",
      "Epoch: [4][2400/3750]\tLoss 0.2734\tPrec@1 91.423\n",
      "Epoch: [4][2500/3750]\tLoss 0.2670\tPrec@1 91.617\n",
      "Epoch: [4][2600/3750]\tLoss 0.2629\tPrec@1 91.727\n",
      "Epoch: [4][2700/3750]\tLoss 0.2604\tPrec@1 91.781\n",
      "Epoch: [4][2800/3750]\tLoss 0.2577\tPrec@1 91.857\n",
      "Epoch: [4][2900/3750]\tLoss 0.2552\tPrec@1 91.937\n",
      "Epoch: [4][3000/3750]\tLoss 0.2527\tPrec@1 92.007\n",
      "Epoch: [4][3100/3750]\tLoss 0.2509\tPrec@1 92.055\n",
      "Epoch: [4][3200/3750]\tLoss 0.2487\tPrec@1 92.122\n",
      "Epoch: [4][3300/3750]\tLoss 0.2461\tPrec@1 92.204\n",
      "Epoch: [4][3400/3750]\tLoss 0.2433\tPrec@1 92.278\n",
      "Epoch: [4][3500/3750]\tLoss 0.2409\tPrec@1 92.346\n",
      "Epoch: [4][3600/3750]\tLoss 0.2389\tPrec@1 92.401\n",
      "Epoch: [4][3700/3750]\tLoss 0.2370\tPrec@1 92.446\n",
      "Epoch[4] *Validation*: Prec@1 90.013\n"
     ]
    },
    {
     "name": "stderr",
     "output_type": "stream",
     "text": [
      "\r",
      " 50%|██████████████████████                      | 5/10 [07:36<07:36, 91.38s/it]"
     ]
    },
    {
     "name": "stdout",
     "output_type": "stream",
     "text": [
      "current lr 1.00000e-04\n",
      "Epoch: [5][0/3750]\tLoss 0.2643\tPrec@1 93.750\n",
      "Epoch: [5][100/3750]\tLoss 0.5355\tPrec@1 87.005\n",
      "Epoch: [5][200/3750]\tLoss 0.4205\tPrec@1 87.951\n",
      "Epoch: [5][300/3750]\tLoss 0.3568\tPrec@1 89.327\n",
      "Epoch: [5][400/3750]\tLoss 0.3205\tPrec@1 90.212\n",
      "Epoch: [5][500/3750]\tLoss 0.3010\tPrec@1 90.787\n",
      "Epoch: [5][600/3750]\tLoss 0.2851\tPrec@1 91.285\n",
      "Epoch: [5][700/3750]\tLoss 0.2661\tPrec@1 91.833\n",
      "Epoch: [5][800/3750]\tLoss 0.2543\tPrec@1 92.150\n",
      "Epoch: [5][900/3750]\tLoss 0.2477\tPrec@1 92.266\n",
      "Epoch: [5][1000/3750]\tLoss 0.2417\tPrec@1 92.445\n",
      "Epoch: [5][1100/3750]\tLoss 0.2354\tPrec@1 92.612\n",
      "Epoch: [5][1200/3750]\tLoss 0.2302\tPrec@1 92.709\n",
      "Epoch: [5][1300/3750]\tLoss 0.2241\tPrec@1 92.907\n",
      "Epoch: [5][1400/3750]\tLoss 0.2214\tPrec@1 92.960\n",
      "Epoch: [5][1500/3750]\tLoss 0.2203\tPrec@1 92.998\n",
      "Epoch: [5][1600/3750]\tLoss 0.2174\tPrec@1 93.090\n",
      "Epoch: [5][1700/3750]\tLoss 0.2136\tPrec@1 93.182\n",
      "Epoch: [5][1800/3750]\tLoss 0.2117\tPrec@1 93.261\n",
      "Epoch: [5][1900/3750]\tLoss 0.2122\tPrec@1 93.227\n",
      "Epoch: [5][2000/3750]\tLoss 0.2125\tPrec@1 93.224\n",
      "Epoch: [5][2100/3750]\tLoss 0.2097\tPrec@1 93.308\n",
      "Epoch: [5][2200/3750]\tLoss 0.2072\tPrec@1 93.388\n",
      "Epoch: [5][2300/3750]\tLoss 0.2052\tPrec@1 93.434\n",
      "Epoch: [5][2400/3750]\tLoss 0.2033\tPrec@1 93.499\n",
      "Epoch: [5][2500/3750]\tLoss 0.1989\tPrec@1 93.646\n",
      "Epoch: [5][2600/3750]\tLoss 0.1962\tPrec@1 93.731\n",
      "Epoch: [5][2700/3750]\tLoss 0.1939\tPrec@1 93.795\n",
      "Epoch: [5][2800/3750]\tLoss 0.1921\tPrec@1 93.827\n",
      "Epoch: [5][2900/3750]\tLoss 0.1897\tPrec@1 93.901\n",
      "Epoch: [5][3000/3750]\tLoss 0.1882\tPrec@1 93.934\n",
      "Epoch: [5][3100/3750]\tLoss 0.1868\tPrec@1 93.974\n",
      "Epoch: [5][3200/3750]\tLoss 0.1859\tPrec@1 94.001\n",
      "Epoch: [5][3300/3750]\tLoss 0.1839\tPrec@1 94.066\n",
      "Epoch: [5][3400/3750]\tLoss 0.1822\tPrec@1 94.127\n",
      "Epoch: [5][3500/3750]\tLoss 0.1805\tPrec@1 94.175\n",
      "Epoch: [5][3600/3750]\tLoss 0.1789\tPrec@1 94.225\n",
      "Epoch: [5][3700/3750]\tLoss 0.1773\tPrec@1 94.269\n",
      "Epoch[5] *Validation*: Prec@1 90.263\n"
     ]
    },
    {
     "name": "stderr",
     "output_type": "stream",
     "text": [
      "\r",
      " 60%|██████████████████████████▍                 | 6/10 [09:08<06:05, 91.48s/it]"
     ]
    },
    {
     "name": "stdout",
     "output_type": "stream",
     "text": [
      "current lr 1.00000e-04\n",
      "Epoch: [6][0/3750]\tLoss 0.4569\tPrec@1 81.250\n",
      "Epoch: [6][100/3750]\tLoss 0.3577\tPrec@1 89.944\n",
      "Epoch: [6][200/3750]\tLoss 0.2835\tPrec@1 91.091\n",
      "Epoch: [6][300/3750]\tLoss 0.2478\tPrec@1 91.881\n",
      "Epoch: [6][400/3750]\tLoss 0.2262\tPrec@1 92.682\n",
      "Epoch: [6][500/3750]\tLoss 0.2131\tPrec@1 93.108\n",
      "Epoch: [6][600/3750]\tLoss 0.2011\tPrec@1 93.526\n",
      "Epoch: [6][700/3750]\tLoss 0.1859\tPrec@1 94.031\n",
      "Epoch: [6][800/3750]\tLoss 0.1768\tPrec@1 94.343\n",
      "Epoch: [6][900/3750]\tLoss 0.1717\tPrec@1 94.506\n",
      "Epoch: [6][1000/3750]\tLoss 0.1665\tPrec@1 94.687\n",
      "Epoch: [6][1100/3750]\tLoss 0.1620\tPrec@1 94.797\n",
      "Epoch: [6][1200/3750]\tLoss 0.1590\tPrec@1 94.884\n",
      "Epoch: [6][1300/3750]\tLoss 0.1546\tPrec@1 95.016\n",
      "Epoch: [6][1400/3750]\tLoss 0.1519\tPrec@1 95.082\n",
      "Epoch: [6][1500/3750]\tLoss 0.1534\tPrec@1 95.051\n",
      "Epoch: [6][1600/3750]\tLoss 0.1524\tPrec@1 95.101\n",
      "Epoch: [6][1700/3750]\tLoss 0.1499\tPrec@1 95.159\n",
      "Epoch: [6][1800/3750]\tLoss 0.1478\tPrec@1 95.206\n",
      "Epoch: [6][1900/3750]\tLoss 0.1476\tPrec@1 95.164\n",
      "Epoch: [6][2000/3750]\tLoss 0.1481\tPrec@1 95.157\n",
      "Epoch: [6][2100/3750]\tLoss 0.1461\tPrec@1 95.228\n",
      "Epoch: [6][2200/3750]\tLoss 0.1439\tPrec@1 95.299\n",
      "Epoch: [6][2300/3750]\tLoss 0.1429\tPrec@1 95.340\n",
      "Epoch: [6][2400/3750]\tLoss 0.1404\tPrec@1 95.420\n",
      "Epoch: [6][2500/3750]\tLoss 0.1371\tPrec@1 95.526\n",
      "Epoch: [6][2600/3750]\tLoss 0.1351\tPrec@1 95.588\n",
      "Epoch: [6][2700/3750]\tLoss 0.1337\tPrec@1 95.619\n",
      "Epoch: [6][2800/3750]\tLoss 0.1318\tPrec@1 95.671\n",
      "Epoch: [6][2900/3750]\tLoss 0.1300\tPrec@1 95.722\n",
      "Epoch: [6][3000/3750]\tLoss 0.1288\tPrec@1 95.760\n",
      "Epoch: [6][3100/3750]\tLoss 0.1279\tPrec@1 95.793\n",
      "Epoch: [6][3200/3750]\tLoss 0.1281\tPrec@1 95.804\n",
      "Epoch: [6][3300/3750]\tLoss 0.1271\tPrec@1 95.836\n",
      "Epoch: [6][3400/3750]\tLoss 0.1259\tPrec@1 95.878\n",
      "Epoch: [6][3500/3750]\tLoss 0.1248\tPrec@1 95.910\n",
      "Epoch: [6][3600/3750]\tLoss 0.1234\tPrec@1 95.955\n",
      "Epoch: [6][3700/3750]\tLoss 0.1225\tPrec@1 95.979\n"
     ]
    },
    {
     "name": "stderr",
     "output_type": "stream",
     "text": [
      "\r",
      " 70%|██████████████████████████████▊             | 7/10 [10:37<04:32, 90.78s/it]"
     ]
    },
    {
     "name": "stdout",
     "output_type": "stream",
     "text": [
      "Epoch[6] *Validation*: Prec@1 90.250\n",
      "current lr 1.00000e-04\n",
      "Epoch: [7][0/3750]\tLoss 0.1869\tPrec@1 93.750\n",
      "Epoch: [7][100/3750]\tLoss 0.3084\tPrec@1 90.996\n",
      "Epoch: [7][200/3750]\tLoss 0.2366\tPrec@1 92.615\n",
      "Epoch: [7][300/3750]\tLoss 0.1995\tPrec@1 93.677\n",
      "Epoch: [7][400/3750]\tLoss 0.1776\tPrec@1 94.319\n",
      "Epoch: [7][500/3750]\tLoss 0.1654\tPrec@1 94.736\n",
      "Epoch: [7][600/3750]\tLoss 0.1537\tPrec@1 95.097\n",
      "Epoch: [7][700/3750]\tLoss 0.1410\tPrec@1 95.502\n",
      "Epoch: [7][800/3750]\tLoss 0.1330\tPrec@1 95.751\n",
      "Epoch: [7][900/3750]\tLoss 0.1293\tPrec@1 95.852\n",
      "Epoch: [7][1000/3750]\tLoss 0.1251\tPrec@1 95.998\n",
      "Epoch: [7][1100/3750]\tLoss 0.1203\tPrec@1 96.129\n",
      "Epoch: [7][1200/3750]\tLoss 0.1170\tPrec@1 96.225\n",
      "Epoch: [7][1300/3750]\tLoss 0.1129\tPrec@1 96.342\n",
      "Epoch: [7][1400/3750]\tLoss 0.1127\tPrec@1 96.340\n",
      "Epoch: [7][1500/3750]\tLoss 0.1116\tPrec@1 96.367\n",
      "Epoch: [7][1600/3750]\tLoss 0.1093\tPrec@1 96.434\n",
      "Epoch: [7][1700/3750]\tLoss 0.1068\tPrec@1 96.504\n",
      "Epoch: [7][1800/3750]\tLoss 0.1046\tPrec@1 96.582\n",
      "Epoch: [7][1900/3750]\tLoss 0.1044\tPrec@1 96.579\n",
      "Epoch: [7][2000/3750]\tLoss 0.1048\tPrec@1 96.545\n",
      "Epoch: [7][2100/3750]\tLoss 0.1038\tPrec@1 96.589\n",
      "Epoch: [7][2200/3750]\tLoss 0.1020\tPrec@1 96.646\n",
      "Epoch: [7][2300/3750]\tLoss 0.1022\tPrec@1 96.666\n",
      "Epoch: [7][2400/3750]\tLoss 0.1010\tPrec@1 96.712\n",
      "Epoch: [7][2500/3750]\tLoss 0.0985\tPrec@1 96.798\n",
      "Epoch: [7][2600/3750]\tLoss 0.0970\tPrec@1 96.852\n",
      "Epoch: [7][2700/3750]\tLoss 0.0958\tPrec@1 96.887\n",
      "Epoch: [7][2800/3750]\tLoss 0.0944\tPrec@1 96.934\n",
      "Epoch: [7][2900/3750]\tLoss 0.0928\tPrec@1 96.990\n",
      "Epoch: [7][3000/3750]\tLoss 0.0920\tPrec@1 97.020\n",
      "Epoch: [7][3100/3750]\tLoss 0.0914\tPrec@1 97.038\n",
      "Epoch: [7][3200/3750]\tLoss 0.0905\tPrec@1 97.067\n",
      "Epoch: [7][3300/3750]\tLoss 0.0893\tPrec@1 97.108\n",
      "Epoch: [7][3400/3750]\tLoss 0.0883\tPrec@1 97.135\n",
      "Epoch: [7][3500/3750]\tLoss 0.0878\tPrec@1 97.156\n",
      "Epoch: [7][3600/3750]\tLoss 0.0872\tPrec@1 97.173\n",
      "Epoch: [7][3700/3750]\tLoss 0.0864\tPrec@1 97.186\n",
      "Epoch[7] *Validation*: Prec@1 90.526\n"
     ]
    },
    {
     "name": "stderr",
     "output_type": "stream",
     "text": [
      "\r",
      " 80%|███████████████████████████████████▏        | 8/10 [12:10<03:02, 91.36s/it]"
     ]
    },
    {
     "name": "stdout",
     "output_type": "stream",
     "text": [
      "current lr 1.00000e-04\n",
      "Epoch: [8][0/3750]\tLoss 0.1151\tPrec@1 96.875\n",
      "Epoch: [8][100/3750]\tLoss 0.1754\tPrec@1 94.462\n",
      "Epoch: [8][200/3750]\tLoss 0.1393\tPrec@1 95.507\n",
      "Epoch: [8][300/3750]\tLoss 0.1215\tPrec@1 96.055\n",
      "Epoch: [8][400/3750]\tLoss 0.1086\tPrec@1 96.454\n",
      "Epoch: [8][500/3750]\tLoss 0.1023\tPrec@1 96.669\n",
      "Epoch: [8][600/3750]\tLoss 0.0958\tPrec@1 96.828\n",
      "Epoch: [8][700/3750]\tLoss 0.0870\tPrec@1 97.138\n",
      "Epoch: [8][800/3750]\tLoss 0.0810\tPrec@1 97.324\n",
      "Epoch: [8][900/3750]\tLoss 0.0810\tPrec@1 97.333\n",
      "Epoch: [8][1000/3750]\tLoss 0.0785\tPrec@1 97.412\n",
      "Epoch: [8][1100/3750]\tLoss 0.0759\tPrec@1 97.499\n",
      "Epoch: [8][1200/3750]\tLoss 0.0742\tPrec@1 97.533\n",
      "Epoch: [8][1300/3750]\tLoss 0.0726\tPrec@1 97.598\n",
      "Epoch: [8][1400/3750]\tLoss 0.0721\tPrec@1 97.624\n",
      "Epoch: [8][1500/3750]\tLoss 0.0723\tPrec@1 97.627\n",
      "Epoch: [8][1600/3750]\tLoss 0.0712\tPrec@1 97.652\n",
      "Epoch: [8][1700/3750]\tLoss 0.0702\tPrec@1 97.682\n",
      "Epoch: [8][1800/3750]\tLoss 0.0692\tPrec@1 97.717\n",
      "Epoch: [8][1900/3750]\tLoss 0.0695\tPrec@1 97.707\n",
      "Epoch: [8][2000/3750]\tLoss 0.0690\tPrec@1 97.718\n",
      "Epoch: [8][2100/3750]\tLoss 0.0681\tPrec@1 97.741\n",
      "Epoch: [8][2200/3750]\tLoss 0.0670\tPrec@1 97.767\n",
      "Epoch: [8][2300/3750]\tLoss 0.0667\tPrec@1 97.774\n",
      "Epoch: [8][2400/3750]\tLoss 0.0655\tPrec@1 97.817\n",
      "Epoch: [8][2500/3750]\tLoss 0.0646\tPrec@1 97.861\n",
      "Epoch: [8][2600/3750]\tLoss 0.0632\tPrec@1 97.897\n",
      "Epoch: [8][2700/3750]\tLoss 0.0630\tPrec@1 97.906\n",
      "Epoch: [8][2800/3750]\tLoss 0.0620\tPrec@1 97.945\n",
      "Epoch: [8][2900/3750]\tLoss 0.0612\tPrec@1 97.969\n",
      "Epoch: [8][3000/3750]\tLoss 0.0611\tPrec@1 97.968\n",
      "Epoch: [8][3100/3750]\tLoss 0.0609\tPrec@1 97.980\n",
      "Epoch: [8][3200/3750]\tLoss 0.0606\tPrec@1 97.995\n",
      "Epoch: [8][3300/3750]\tLoss 0.0600\tPrec@1 98.015\n",
      "Epoch: [8][3400/3750]\tLoss 0.0595\tPrec@1 98.036\n",
      "Epoch: [8][3500/3750]\tLoss 0.0590\tPrec@1 98.051\n",
      "Epoch: [8][3600/3750]\tLoss 0.0583\tPrec@1 98.072\n",
      "Epoch: [8][3700/3750]\tLoss 0.0582\tPrec@1 98.072\n"
     ]
    },
    {
     "name": "stderr",
     "output_type": "stream",
     "text": [
      "\r",
      " 90%|███████████████████████████████████████▌    | 9/10 [13:38<01:30, 90.55s/it]"
     ]
    },
    {
     "name": "stdout",
     "output_type": "stream",
     "text": [
      "Epoch[8] *Validation*: Prec@1 90.066\n",
      "current lr 1.00000e-04\n",
      "Epoch: [9][0/3750]\tLoss 0.0880\tPrec@1 93.750\n",
      "Epoch: [9][100/3750]\tLoss 0.1418\tPrec@1 96.040\n",
      "Epoch: [9][200/3750]\tLoss 0.1071\tPrec@1 96.782\n",
      "Epoch: [9][300/3750]\tLoss 0.0917\tPrec@1 97.124\n",
      "Epoch: [9][400/3750]\tLoss 0.0799\tPrec@1 97.452\n",
      "Epoch: [9][500/3750]\tLoss 0.0733\tPrec@1 97.686\n",
      "Epoch: [9][600/3750]\tLoss 0.0697\tPrec@1 97.769\n",
      "Epoch: [9][700/3750]\tLoss 0.0641\tPrec@1 97.958\n",
      "Epoch: [9][800/3750]\tLoss 0.0603\tPrec@1 98.061\n",
      "Epoch: [9][900/3750]\tLoss 0.0582\tPrec@1 98.124\n",
      "Epoch: [9][1000/3750]\tLoss 0.0565\tPrec@1 98.177\n",
      "Epoch: [9][1100/3750]\tLoss 0.0541\tPrec@1 98.232\n",
      "Epoch: [9][1200/3750]\tLoss 0.0527\tPrec@1 98.280\n",
      "Epoch: [9][1300/3750]\tLoss 0.0514\tPrec@1 98.321\n",
      "Epoch: [9][1400/3750]\tLoss 0.0509\tPrec@1 98.323\n",
      "Epoch: [9][1500/3750]\tLoss 0.0516\tPrec@1 98.299\n",
      "Epoch: [9][1600/3750]\tLoss 0.0508\tPrec@1 98.321\n",
      "Epoch: [9][1700/3750]\tLoss 0.0502\tPrec@1 98.341\n",
      "Epoch: [9][1800/3750]\tLoss 0.0493\tPrec@1 98.362\n",
      "Epoch: [9][1900/3750]\tLoss 0.0494\tPrec@1 98.354\n",
      "Epoch: [9][2000/3750]\tLoss 0.0491\tPrec@1 98.362\n",
      "Epoch: [9][2100/3750]\tLoss 0.0490\tPrec@1 98.376\n",
      "Epoch: [9][2200/3750]\tLoss 0.0486\tPrec@1 98.383\n",
      "Epoch: [9][2300/3750]\tLoss 0.0484\tPrec@1 98.396\n",
      "Epoch: [9][2400/3750]\tLoss 0.0477\tPrec@1 98.424\n",
      "Epoch: [9][2500/3750]\tLoss 0.0467\tPrec@1 98.458\n",
      "Epoch: [9][2600/3750]\tLoss 0.0456\tPrec@1 98.492\n",
      "Epoch: [9][2700/3750]\tLoss 0.0454\tPrec@1 98.507\n",
      "Epoch: [9][2800/3750]\tLoss 0.0447\tPrec@1 98.524\n",
      "Epoch: [9][2900/3750]\tLoss 0.0445\tPrec@1 98.532\n",
      "Epoch: [9][3000/3750]\tLoss 0.0442\tPrec@1 98.536\n",
      "Epoch: [9][3100/3750]\tLoss 0.0448\tPrec@1 98.523\n",
      "Epoch: [9][3200/3750]\tLoss 0.0460\tPrec@1 98.505\n",
      "Epoch: [9][3300/3750]\tLoss 0.0458\tPrec@1 98.506\n",
      "Epoch: [9][3400/3750]\tLoss 0.0455\tPrec@1 98.518\n",
      "Epoch: [9][3500/3750]\tLoss 0.0453\tPrec@1 98.521\n",
      "Epoch: [9][3600/3750]\tLoss 0.0451\tPrec@1 98.520\n",
      "Epoch: [9][3700/3750]\tLoss 0.0451\tPrec@1 98.520\n"
     ]
    },
    {
     "name": "stderr",
     "output_type": "stream",
     "text": [
      "100%|███████████████████████████████████████████| 10/10 [15:10<00:00, 91.01s/it]"
     ]
    },
    {
     "name": "stdout",
     "output_type": "stream",
     "text": [
      "Epoch[9] *Validation*: Prec@1 90.329\n"
     ]
    },
    {
     "name": "stderr",
     "output_type": "stream",
     "text": [
      "\n"
     ]
    },
    {
     "data": {
      "text/plain": [
       "[26.63157894736842,\n",
       " 51.55263157894737,\n",
       " 89.6842105263158,\n",
       " 89.92105263157895,\n",
       " 90.01315789473684,\n",
       " 90.26315789473684,\n",
       " 90.25,\n",
       " 90.52631578947368,\n",
       " 90.0657894736842,\n",
       " 90.32894736842105]"
      ]
     },
     "execution_count": 15,
     "metadata": {},
     "output_type": "execute_result"
    }
   ],
   "source": [
    "learner_ag_news.train()"
   ]
  },
  {
   "cell_type": "markdown",
   "id": "d4b755b6",
   "metadata": {
    "pycharm": {
     "name": "#%% md\n"
    }
   },
   "source": [
    "# Memory compute"
   ]
  },
  {
   "cell_type": "code",
   "execution_count": 67,
   "id": "07184be3",
   "metadata": {
    "pycharm": {
     "name": "#%%\n"
    }
   },
   "outputs": [],
   "source": [
    "from utils.utils import count_memory_size"
   ]
  },
  {
   "cell_type": "code",
   "execution_count": 68,
   "id": "581cdf9e",
   "metadata": {
    "pycharm": {
     "name": "#%%\n"
    }
   },
   "outputs": [
    {
     "data": {
      "text/plain": [
       "82497552"
      ]
     },
     "execution_count": 68,
     "metadata": {},
     "output_type": "execute_result"
    }
   ],
   "source": [
    "count_memory_size(model)"
   ]
  },
  {
   "cell_type": "code",
   "execution_count": 69,
   "id": "90a45c28",
   "metadata": {
    "pycharm": {
     "name": "#%%\n"
    }
   },
   "outputs": [
    {
     "name": "stdout",
     "output_type": "stream",
     "text": [
      "input_embeddings: 3.355749760294658\n",
      "input_encodings: 0.0\n",
      "sublayer_attention: 0.44420377699589014\n",
      "sublayer_ffn: 0.4439875142028055\n",
      "classifier: 0.11180870880130434\n"
     ]
    }
   ],
   "source": [
    "total = count_memory_size(model) - count_memory_size(model.input_embeddings)\n",
    "for name, layer in model.named_children():\n",
    "    print(f'{name}: {count_memory_size(layer)/total}')"
   ]
  },
  {
   "cell_type": "code",
   "execution_count": null,
   "id": "7efd0ba7",
   "metadata": {
    "pycharm": {
     "name": "#%%\n"
    }
   },
   "outputs": [],
   "source": []
  },
  {
   "cell_type": "code",
   "execution_count": null,
   "id": "d0e0240c",
   "metadata": {
    "pycharm": {
     "name": "#%%\n"
    }
   },
   "outputs": [],
   "source": []
  }
 ],
 "metadata": {
  "kernelspec": {
   "display_name": "Python 3",
   "language": "python",
   "name": "python3"
  },
  "language_info": {
   "codemirror_mode": {
    "name": "ipython",
    "version": 3
   },
   "file_extension": ".py",
   "mimetype": "text/x-python",
   "name": "python",
   "nbconvert_exporter": "python",
   "pygments_lexer": "ipython3",
   "version": "3.7.12"
  },
  "toc": {
   "base_numbering": 1,
   "nav_menu": {},
   "number_sections": true,
   "sideBar": true,
   "skip_h1_title": false,
   "title_cell": "Table of Contents",
   "title_sidebar": "Contents",
   "toc_cell": false,
   "toc_position": {},
   "toc_section_display": true,
   "toc_window_display": false
  },
  "varInspector": {
   "cols": {
    "lenName": 16,
    "lenType": 16,
    "lenVar": 40
   },
   "kernels_config": {
    "python": {
     "delete_cmd_postfix": "",
     "delete_cmd_prefix": "del ",
     "library": "var_list.py",
     "varRefreshCmd": "print(var_dic_list())"
    },
    "r": {
     "delete_cmd_postfix": ") ",
     "delete_cmd_prefix": "rm(",
     "library": "var_list.r",
     "varRefreshCmd": "cat(var_dic_list()) "
    }
   },
   "types_to_exclude": [
    "module",
    "function",
    "builtin_function_or_method",
    "instance",
    "_Feature"
   ],
   "window_display": false
  }
 },
 "nbformat": 4,
 "nbformat_minor": 5
}