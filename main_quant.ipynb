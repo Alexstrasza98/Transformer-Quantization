{
 "cells": [
  {
   "cell_type": "code",
   "execution_count": 1,
   "outputs": [],
   "source": [
    "import torch\n",
    "from torch import nn\n",
    "from torch.optim import Adam, SGD\n",
    "from torch.optim.lr_scheduler import MultiStepLR\n",
    "import numpy as np\n",
    "import matplotlib.pyplot as plt\n",
    "import pandas as pd\n",
    "\n",
    "from transformers import AutoTokenizer\n",
    "from utils.data_utils import AG_NEWS_DATASET\n",
    "from utils.constants import *\n",
    "from utils.training import Learner\n",
    "from training_ema import Learner as ema_learner\n",
    "\n",
    "# from quantization.fully_quantize import Model\n",
    "from quantization.transformer import Transformer\n",
    "from quantization.pytorch_api import ModelQuant\n",
    "from quantization.quantize import quantizer\n",
    "from quantization.fully_quantize import Model as fullyQuantModel\n",
    "\n",
    "%load_ext autoreload\n",
    "%autoreload 2"
   ],
   "metadata": {
    "collapsed": false,
    "pycharm": {
     "name": "#%%\n"
    }
   }
  },
  {
   "cell_type": "code",
   "execution_count": null,
   "outputs": [],
   "source": [
    "# load dataset\n",
    "tokenizer = AutoTokenizer.from_pretrained(\"bert-base-uncased\")\n",
    "train_dl, test_dl = AG_NEWS_DATASET(tokenizer).load_data()\n",
    "\n",
    "# create model\n",
    "original_model = Transformer(4,\n",
    "                tokenizer.vocab_size,\n",
    "                BASELINE_MODEL_NUMBER_OF_LAYERS,\n",
    "                BASELINE_MODEL_NUMBER_OF_HEADS,\n",
    "                BASELINE_MODEL_DIM)\n",
    "\n",
    "# model = quantizer(model, 8, True)\n",
    "\n",
    "\n",
    "model = fullyQuantModel(4,\n",
    "                tokenizer.vocab_size,\n",
    "                BASELINE_MODEL_NUMBER_OF_LAYERS,\n",
    "                BASELINE_MODEL_NUMBER_OF_HEADS,\n",
    "                BASELINE_MODEL_DIM)\n",
    "\n",
    "# loss func\n",
    "loss_fn = nn.CrossEntropyLoss()\n",
    "\n",
    "# simple optimizer\n",
    "optim_original = Adam(original_model.parameters(), lr= 1e-4)\n",
    "scheduler_original = MultiStepLR(optim_original, milestones=[10,15], gamma=0.1)\n",
    "optim = Adam(model.parameters(), lr= 1e-4)\n",
    "scheduler = MultiStepLR(optim_original, milestones=[10,15], gamma=0.1)\n",
    "\n",
    "train_config ={'model_original': original_model,\n",
    "               'model': model,\n",
    "               'loss_fn': loss_fn,\n",
    "               'optim_original': optim_original,\n",
    "               'optim': optim,\n",
    "               'datasets': [train_dl, test_dl],\n",
    "               'epochs': 10,\n",
    "               'batch_size': BATCH_SIZE,\n",
    "               'scheduler_original': scheduler_original,\n",
    "               'scheduler': scheduler,\n",
    "               'exp_name': \"quant_all\",\n",
    "               'epoch_start_quantization': 1\n",
    "               }\n",
    "\n",
    "# training\n",
    "learner_ag_news = ema_learner(train_config)"
   ],
   "metadata": {
    "collapsed": false,
    "pycharm": {
     "name": "#%%\n"
    }
   }
  },
  {
   "cell_type": "code",
   "execution_count": null,
   "outputs": [],
   "source": [
    "torch.cuda.empty_cache()\n",
    "learner_ag_news.train()"
   ],
   "metadata": {
    "collapsed": false,
    "pycharm": {
     "name": "#%%\n"
    }
   }
  },
  {
   "cell_type": "code",
   "execution_count": 9,
   "outputs": [
    {
     "name": "stderr",
     "output_type": "stream",
     "text": [
      "C:\\Users\\Hu Mingzhe\\AppData\\Local\\Programs\\Python\\Python37\\lib\\site-packages\\torch\\utils\\data\\datapipes\\utils\\common.py:25: UserWarning: Lambda function is not supported for pickle, please use regular python function or functools.partial instead.\n",
      "  \"Lambda function is not supported for pickle, please use \"\n"
     ]
    },
    {
     "name": "stdout",
     "output_type": "stream",
     "text": [
      "key bert.embeddings.word_embeddings.weight\n",
      "shape torch.Size([30522, 512])\n",
      "key bert.embeddings.position_embeddings.weight\n",
      "shape torch.Size([512, 512])\n",
      "key bert.embeddings.token_type_embeddings.weight\n",
      "shape torch.Size([2, 512])\n",
      "key bert.embeddings.LayerNorm.weight\n",
      "shape torch.Size([512])\n",
      "key bert.embeddings.LayerNorm.bias\n",
      "shape torch.Size([512])\n",
      "key bert.encoder.layer.0.attention.self.query.weight\n",
      "shape torch.Size([512, 512])\n",
      "key bert.encoder.layer.0.attention.self.query.bias\n",
      "shape torch.Size([512])\n",
      "key bert.encoder.layer.0.attention.self.key.weight\n",
      "shape torch.Size([512, 512])\n",
      "key bert.encoder.layer.0.attention.self.key.bias\n",
      "shape torch.Size([512])\n",
      "key bert.encoder.layer.0.attention.self.value.weight\n",
      "shape torch.Size([512, 512])\n",
      "key bert.encoder.layer.0.attention.self.value.bias\n",
      "shape torch.Size([512])\n",
      "key bert.encoder.layer.0.attention.output.dense.weight\n",
      "shape torch.Size([512, 512])\n",
      "key bert.encoder.layer.0.attention.output.dense.bias\n",
      "shape torch.Size([512])\n",
      "key bert.encoder.layer.0.attention.output.LayerNorm.weight\n",
      "shape torch.Size([512])\n",
      "key bert.encoder.layer.0.attention.output.LayerNorm.bias\n",
      "shape torch.Size([512])\n",
      "key bert.encoder.layer.0.intermediate.dense.weight\n",
      "shape torch.Size([2048, 512])\n",
      "key bert.encoder.layer.0.intermediate.dense.bias\n",
      "shape torch.Size([2048])\n",
      "key bert.encoder.layer.0.output.dense.weight\n",
      "shape torch.Size([512, 2048])\n",
      "key bert.encoder.layer.0.output.dense.bias\n",
      "shape torch.Size([512])\n",
      "key bert.encoder.layer.0.output.LayerNorm.weight\n",
      "shape torch.Size([512])\n",
      "key bert.encoder.layer.0.output.LayerNorm.bias\n",
      "shape torch.Size([512])\n",
      "key bert.encoder.layer.1.attention.self.query.weight\n",
      "shape torch.Size([512, 512])\n",
      "key bert.encoder.layer.1.attention.self.query.bias\n",
      "shape torch.Size([512])\n",
      "key bert.encoder.layer.1.attention.self.key.weight\n",
      "shape torch.Size([512, 512])\n",
      "key bert.encoder.layer.1.attention.self.key.bias\n",
      "shape torch.Size([512])\n",
      "key bert.encoder.layer.1.attention.self.value.weight\n",
      "shape torch.Size([512, 512])\n",
      "key bert.encoder.layer.1.attention.self.value.bias\n",
      "shape torch.Size([512])\n",
      "key bert.encoder.layer.1.attention.output.dense.weight\n",
      "shape torch.Size([512, 512])\n",
      "key bert.encoder.layer.1.attention.output.dense.bias\n",
      "shape torch.Size([512])\n",
      "key bert.encoder.layer.1.attention.output.LayerNorm.weight\n",
      "shape torch.Size([512])\n",
      "key bert.encoder.layer.1.attention.output.LayerNorm.bias\n",
      "shape torch.Size([512])\n",
      "key bert.encoder.layer.1.intermediate.dense.weight\n",
      "shape torch.Size([2048, 512])\n",
      "key bert.encoder.layer.1.intermediate.dense.bias\n",
      "shape torch.Size([2048])\n",
      "key bert.encoder.layer.1.output.dense.weight\n",
      "shape torch.Size([512, 2048])\n",
      "key bert.encoder.layer.1.output.dense.bias\n",
      "shape torch.Size([512])\n",
      "key bert.encoder.layer.1.output.LayerNorm.weight\n",
      "shape torch.Size([512])\n",
      "key bert.encoder.layer.1.output.LayerNorm.bias\n",
      "shape torch.Size([512])\n",
      "key bert.pooler.dense.weight\n",
      "shape torch.Size([512, 512])\n",
      "key bert.pooler.dense.bias\n",
      "shape torch.Size([512])\n",
      "key cls.predictions.bias\n",
      "shape torch.Size([30522])\n",
      "key cls.predictions.transform.dense.weight\n",
      "shape torch.Size([512, 512])\n",
      "key cls.predictions.transform.dense.bias\n",
      "shape torch.Size([512])\n",
      "key cls.predictions.transform.LayerNorm.weight\n",
      "shape torch.Size([512])\n",
      "key cls.predictions.transform.LayerNorm.bias\n",
      "shape torch.Size([512])\n",
      "key cls.predictions.decoder.weight\n",
      "shape torch.Size([30522, 512])\n",
      "key cls.predictions.decoder.bias\n",
      "shape torch.Size([30522])\n",
      "key cls.seq_relationship.weight\n",
      "shape torch.Size([2, 512])\n",
      "key cls.seq_relationship.bias\n",
      "shape torch.Size([2])\n"
     ]
    }
   ],
   "source": [
    "# load dataset\n",
    "tokenizer = AutoTokenizer.from_pretrained(\"bert-base-uncased\")\n",
    "train_dl, test_dl = AG_NEWS_DATASET(tokenizer, batch_size = BATCH_SIZE).load_data()\n",
    "\n",
    "# create model\n",
    "original_model = Transformer(4,\n",
    "                tokenizer.vocab_size,\n",
    "                BASELINE_MODEL_NUMBER_OF_LAYERS,\n",
    "                BASELINE_MODEL_NUMBER_OF_HEADS,\n",
    "                BASELINE_MODEL_DIM)\n",
    "\n",
    "model = quantizer(original_model, 2, True)\n",
    "\n",
    "\n",
    "# loss func\n",
    "loss_fn = nn.CrossEntropyLoss()\n",
    "\n",
    "# baseline training config -> do not change!\n",
    "optim = Adam(model.parameters(), lr= 1e-4)\n",
    "scheduler = MultiStepLR(optim, milestones=[10,15], gamma=0.1)\n",
    "\n",
    "train_config = {'model': model, 'loss_fn': loss_fn, 'optim': optim, 'scheduler': scheduler,\n",
    "                'datasets': [train_dl, test_dl], 'epochs': 10, 'batch_size': BATCH_SIZE,\n",
    "                'exp_name': 'transformer_quantization_BASELINE_2bit_ALL'}\n",
    "\n",
    "# train_config['exp_name'] = 'transformer_quantization_PYTORCHAPI_8bit_ALL'\n",
    "\n",
    "# training\n",
    "learner_ag_news = Learner(train_config)"
   ],
   "metadata": {
    "collapsed": false,
    "pycharm": {
     "name": "#%%\n"
    }
   }
  },
  {
   "cell_type": "code",
   "execution_count": null,
   "metadata": {
    "pycharm": {
     "name": "#%%\n"
    }
   },
   "outputs": [],
   "source": [
    "torch.cuda.empty_cache()\n",
    "learner_ag_news.train()"
   ]
  }
 ],
 "metadata": {
  "kernelspec": {
   "display_name": "Python 3",
   "language": "python",
   "name": "python3"
  },
  "language_info": {
   "codemirror_mode": {
    "name": "ipython",
    "version": 3
   },
   "file_extension": ".py",
   "mimetype": "text/x-python",
   "name": "python",
   "nbconvert_exporter": "python",
   "pygments_lexer": "ipython3",
   "version": "3.7.12"
  }
 },
 "nbformat": 4,
 "nbformat_minor": 1
}