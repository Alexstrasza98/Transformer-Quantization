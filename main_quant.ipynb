{
 "cells": [
  {
   "cell_type": "code",
   "execution_count": null,
   "outputs": [],
   "source": [
    "import torch\n",
    "from torch import nn\n",
    "from torch.optim import Adam, SGD\n",
    "from torch.optim.lr_scheduler import MultiStepLR\n",
    "import numpy as np\n",
    "import matplotlib.pyplot as plt\n",
    "import pandas as pd\n",
    "\n",
    "from transformers import AutoTokenizer\n",
    "from utils.data_utils import AG_NEWS_DATASET\n",
    "from utils.constants import *\n",
    "from utils.training import Learner\n",
    "from training_ema import Learner as ema_learner\n",
    "\n",
    "# from quantization.fully_quantize import Model\n",
    "from quantization.transformer import Transformer\n",
    "from quantization.pytorch_api import ModelQuant\n",
    "from quantization.quantize import quantizer\n",
    "from quantization.fully_quantize import Model as fullyQuantModel\n",
    "\n",
    "%load_ext autoreload\n",
    "%autoreload 2"
   ],
   "metadata": {
    "collapsed": false,
    "pycharm": {
     "name": "#%%\n"
    }
   }
  },
  {
   "cell_type": "code",
   "execution_count": null,
   "outputs": [],
   "source": [
    "# load dataset\n",
    "tokenizer = AutoTokenizer.from_pretrained(\"bert-base-uncased\")\n",
    "train_dl, test_dl = AG_NEWS_DATASET(tokenizer).load_data()\n",
    "\n",
    "# create model\n",
    "original_model = Transformer(4,\n",
    "                tokenizer.vocab_size,\n",
    "                BASELINE_MODEL_NUMBER_OF_LAYERS,\n",
    "                BASELINE_MODEL_NUMBER_OF_HEADS,\n",
    "                BASELINE_MODEL_DIM)\n",
    "\n",
    "# model = quantizer(model, 8, True)\n",
    "\n",
    "\n",
    "model = fullyQuantModel(4,\n",
    "                tokenizer.vocab_size,\n",
    "                BASELINE_MODEL_NUMBER_OF_LAYERS,\n",
    "                BASELINE_MODEL_NUMBER_OF_HEADS,\n",
    "                BASELINE_MODEL_DIM)\n",
    "\n",
    "# loss func\n",
    "loss_fn = nn.CrossEntropyLoss()\n",
    "\n",
    "# simple optimizer\n",
    "optim_original = Adam(original_model.parameters(), lr= 1e-4)\n",
    "scheduler_original = MultiStepLR(optim_original, milestones=[10,15], gamma=0.1)\n",
    "optim = Adam(model.parameters(), lr= 1e-4)\n",
    "scheduler = MultiStepLR(optim_original, milestones=[10,15], gamma=0.1)\n",
    "\n",
    "train_config ={'model_original': original_model,\n",
    "               'model': model,\n",
    "               'loss_fn': loss_fn,\n",
    "               'optim_original': optim_original,\n",
    "               'optim': optim,\n",
    "               'datasets': [train_dl, test_dl],\n",
    "               'epochs': 10,\n",
    "               'batch_size': BATCH_SIZE,\n",
    "               'scheduler_original': scheduler_original,\n",
    "               'scheduler': scheduler,\n",
    "               'exp_name': \"quant_all\",\n",
    "               'epoch_start_quantization': 1\n",
    "               }\n",
    "\n",
    "# training\n",
    "learner_ag_news = ema_learner(train_config)"
   ],
   "metadata": {
    "collapsed": false,
    "pycharm": {
     "name": "#%%\n"
    }
   }
  },
  {
   "cell_type": "code",
   "execution_count": null,
   "metadata": {
    "pycharm": {
     "is_executing": true
    }
   },
   "outputs": [],
   "source": [
    "print(model)"
   ]
  },
  {
   "cell_type": "code",
   "execution_count": null,
   "outputs": [],
   "source": [
    "# load dataset\n",
    "tokenizer = AutoTokenizer.from_pretrained(\"bert-base-uncased\")\n",
    "train_dl, test_dl = AG_NEWS_DATASET(tokenizer, batch_size = BATCH_SIZE).load_data()\n",
    "\n",
    "# create model\n",
    "original_model = Transformer(4,\n",
    "                tokenizer.vocab_size,\n",
    "                BASELINE_MODEL_NUMBER_OF_LAYERS,\n",
    "                BASELINE_MODEL_NUMBER_OF_HEADS,\n",
    "                BASELINE_MODEL_DIM)\n",
    "\n",
    "model = quantizer(original_model, 2, True)\n",
    "# model = ModelQuant(4,\n",
    "#                 tokenizer.vocab_size,\n",
    "#                 BASELINE_MODEL_NUMBER_OF_LAYERS,\n",
    "#                 BASELINE_MODEL_NUMBER_OF_HEADS,\n",
    "#                 BASELINE_MODEL_DIM)\n",
    "\n",
    "# loss func\n",
    "loss_fn = nn.CrossEntropyLoss()\n",
    "\n",
    "# baseline training config -> do not change!\n",
    "optim = Adam(model.parameters(), lr= 1e-4)\n",
    "scheduler = MultiStepLR(optim, milestones=[10,15], gamma=0.1)\n",
    "\n",
    "train_config = {'model': model, 'loss_fn': loss_fn, 'optim': optim, 'scheduler': scheduler,\n",
    "                'datasets': [train_dl, test_dl], 'epochs': 10, 'batch_size': BATCH_SIZE,\n",
    "                'exp_name': 'transformer_quantization_BASELINE_2bit_ALL'}\n",
    "\n",
    "# train_config['exp_name'] = 'transformer_quantization_PYTORCHAPI_8bit_ALL'\n",
    "\n",
    "# training\n",
    "learner_ag_news = Learner(train_config)"
   ],
   "metadata": {
    "collapsed": false,
    "pycharm": {
     "name": "#%%\n"
    }
   }
  },
  {
   "cell_type": "code",
   "execution_count": null,
   "outputs": [],
   "source": [
    "learner_ag_news.train()"
   ],
   "metadata": {
    "collapsed": false,
    "pycharm": {
     "name": "#%%\n"
    }
   }
  },
  {
   "cell_type": "code",
   "execution_count": null,
   "metadata": {
    "pycharm": {
     "name": "#%%\n"
    }
   },
   "outputs": [],
   "source": [
    "learner_ag_news.train()"
   ]
  }
 ],
 "metadata": {
  "kernelspec": {
   "display_name": "Python 3",
   "language": "python",
   "name": "python3"
  },
  "language_info": {
   "codemirror_mode": {
    "name": "ipython",
    "version": 3
   },
   "file_extension": ".py",
   "mimetype": "text/x-python",
   "name": "python",
   "nbconvert_exporter": "python",
   "pygments_lexer": "ipython3",
   "version": "3.7.12"
  }
 },
 "nbformat": 4,
 "nbformat_minor": 1
}