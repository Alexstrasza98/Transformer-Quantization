{
 "cells": [
  {
   "cell_type": "code",
   "execution_count": 7,
   "metadata": {
    "pycharm": {
     "name": "#%%\n"
    }
   },
   "outputs": [],
   "source": [
    "import torch\n",
    "from torch import nn\n",
    "from torch.optim import Adam, SGD\n",
    "from torch.optim.lr_scheduler import MultiStepLR\n",
    "import numpy as np\n",
    "import matplotlib.pyplot as plt\n",
    "import pandas as pd\n",
    "\n",
    "from transformers import AutoTokenizer\n",
    "from utils.data_utils import AG_NEWS_DATASET\n",
    "from utils.constants import *\n",
    "from utils.training import Learner\n",
    "from training_ema import Learner as ema_learner\n",
    "\n",
    "# from quantization.fully_quantize import Model\n",
    "from quantization.transformer import Transformer\n",
    "from quantization.pytorch_api import ModelQuant\n",
    "from quantization.quantize import quantizer\n",
    "from quantization.fully_quantize import Model as fullyQuantModel\n",
    "\n",
    "%load_ext autoreload\n",
    "%autoreload 2"
   ]
  },
  {
   "cell_type": "code",
   "execution_count": 8,
   "metadata": {
    "pycharm": {
     "name": "#%%\n"
    }
   },
   "outputs": [
    {
     "name": "stderr",
     "output_type": "stream",
     "text": [
      "/opt/conda/lib/python3.7/site-packages/torch/utils/data/datapipes/utils/common.py:25: UserWarning: Lambda function is not supported for pickle, please use regular python function or functools.partial instead.\n",
      "  \"Lambda function is not supported for pickle, please use \"\n"
     ]
    },
    {
     "name": "stdout",
     "output_type": "stream",
     "text": [
      "original model received!\n"
     ]
    }
   ],
   "source": [
    "# load dataset\n",
    "tokenizer = AutoTokenizer.from_pretrained(\"bert-base-uncased\")\n",
    "train_dl, test_dl = AG_NEWS_DATASET(tokenizer).load_data()\n",
    "\n",
    "# create model\n",
    "original_model = Transformer(4,\n",
    "                tokenizer.vocab_size,\n",
    "                BASELINE_MODEL_NUMBER_OF_LAYERS,\n",
    "                BASELINE_MODEL_NUMBER_OF_HEADS,\n",
    "                BASELINE_MODEL_DIM)\n",
    "\n",
    "\n",
    "\n",
    "model = quantizer(original_model, 8, True)\n",
    "\n",
    "\n",
    "# model = fullyQuantModel(4,\n",
    "#                 tokenizer.vocab_size,\n",
    "#                 BASELINE_MODEL_NUMBER_OF_LAYERS,\n",
    "#                 BASELINE_MODEL_NUMBER_OF_HEADS,\n",
    "#                 BASELINE_MODEL_DIM)\n",
    "\n",
    "# loss func\n",
    "loss_fn = nn.CrossEntropyLoss()\n",
    "\n",
    "# simple optimizer\n",
    "optim_original = Adam(original_model.parameters(), lr= 1e-4)\n",
    "scheduler_original = MultiStepLR(optim_original, milestones=[10,15], gamma=0.1)\n",
    "optim = Adam(model.parameters(), lr= 1e-4)\n",
    "scheduler = MultiStepLR(optim_original, milestones=[10,15], gamma=0.1)\n",
    "\n",
    "train_config ={'model_original': original_model,\n",
    "               'model': model,\n",
    "               'loss_fn': loss_fn,\n",
    "               'optim_original': optim_original,\n",
    "               'optim': optim,\n",
    "               'datasets': [train_dl, test_dl],\n",
    "               'epochs': 10,\n",
    "               'batch_size': BATCH_SIZE,\n",
    "               'scheduler_original': scheduler_original,\n",
    "               'scheduler': scheduler,\n",
    "               'exp_name': \"quant_all\",\n",
    "               'epoch_start_quantization': 1\n",
    "               }\n",
    "\n",
    "# training\n",
    "learner_ag_news = ema_learner(train_config)"
   ]
  },
  {
   "cell_type": "code",
   "execution_count": 9,
   "metadata": {},
   "outputs": [
    {
     "name": "stdout",
     "output_type": "stream",
     "text": [
      "Transformer(\n",
      "  (input_embeddings): Embeddings(\n",
      "    (token_embedding): Embedding(30522, 512)\n",
      "    (pos_embedding): Embedding(512, 512)\n",
      "  )\n",
      "  (input_encodings): PositionalEncoding(\n",
      "    (dropout): Dropout(p=0.1, inplace=False)\n",
      "  )\n",
      "  (sublayer_attention): ModuleList(\n",
      "    (0): sublayerConnectionAttention(\n",
      "      (multiheads): MultiheadAttention(\n",
      "        (heads): ModuleList(\n",
      "          (0): QuantizedLinear(in_features=512, out_features=512, bias=True)\n",
      "          (1): QuantizedLinear(in_features=512, out_features=512, bias=True)\n",
      "          (2): QuantizedLinear(in_features=512, out_features=512, bias=True)\n",
      "        )\n",
      "        (output): QuantizedLinear(in_features=512, out_features=512, bias=True)\n",
      "        (dropout): Dropout(p=0.1, inplace=False)\n",
      "      )\n",
      "      (layernorm): LayerNorm()\n",
      "      (dropout): Dropout(p=0.1, inplace=False)\n",
      "    )\n",
      "    (1): sublayerConnectionAttention(\n",
      "      (multiheads): MultiheadAttention(\n",
      "        (heads): ModuleList(\n",
      "          (0): QuantizedLinear(in_features=512, out_features=512, bias=True)\n",
      "          (1): QuantizedLinear(in_features=512, out_features=512, bias=True)\n",
      "          (2): QuantizedLinear(in_features=512, out_features=512, bias=True)\n",
      "        )\n",
      "        (output): QuantizedLinear(in_features=512, out_features=512, bias=True)\n",
      "        (dropout): Dropout(p=0.1, inplace=False)\n",
      "      )\n",
      "      (layernorm): LayerNorm()\n",
      "      (dropout): Dropout(p=0.1, inplace=False)\n",
      "    )\n",
      "  )\n",
      "  (sublayer_ffn): ModuleList(\n",
      "    (0): sublayerConnectionFFN(\n",
      "      (ffn): PositionalWiseFFN(\n",
      "        (w_1): QuantizedLinear(in_features=512, out_features=1024, bias=True)\n",
      "        (w_2): QuantizedLinear(in_features=1024, out_features=512, bias=True)\n",
      "        (dropout): Dropout(p=0.1, inplace=False)\n",
      "      )\n",
      "      (layernorm): LayerNorm()\n",
      "      (dropout): Dropout(p=0.1, inplace=False)\n",
      "    )\n",
      "    (1): sublayerConnectionFFN(\n",
      "      (ffn): PositionalWiseFFN(\n",
      "        (w_1): QuantizedLinear(in_features=512, out_features=1024, bias=True)\n",
      "        (w_2): QuantizedLinear(in_features=1024, out_features=512, bias=True)\n",
      "        (dropout): Dropout(p=0.1, inplace=False)\n",
      "      )\n",
      "      (layernorm): LayerNorm()\n",
      "      (dropout): Dropout(p=0.1, inplace=False)\n",
      "    )\n",
      "  )\n",
      "  (classifier): Classifier(\n",
      "    (hidden): Linear(in_features=512, out_features=1024, bias=True)\n",
      "    (classifier): Linear(in_features=1024, out_features=4, bias=True)\n",
      "  )\n",
      ")\n"
     ]
    }
   ],
   "source": [
    "print(model)"
   ]
  },
  {
   "cell_type": "code",
   "execution_count": null,
   "metadata": {
    "pycharm": {
     "name": "#%%\n"
    }
   },
   "outputs": [],
   "source": [
    "learner_ag_news.train()"
   ]
  }
 ],
 "metadata": {
  "kernelspec": {
   "display_name": "Python 3",
   "language": "python",
   "name": "python3"
  },
  "language_info": {
   "codemirror_mode": {
    "name": "ipython",
    "version": 3
   },
   "file_extension": ".py",
   "mimetype": "text/x-python",
   "name": "python",
   "nbconvert_exporter": "python",
   "pygments_lexer": "ipython3",
   "version": "3.7.12"
  }
 },
 "nbformat": 4,
 "nbformat_minor": 1
}
