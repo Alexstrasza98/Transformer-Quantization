{
 "cells": [
  {
   "cell_type": "code",
   "execution_count": 5,
   "id": "2edbf7a2",
   "metadata": {},
   "outputs": [
    {
     "name": "stdout",
     "output_type": "stream",
     "text": [
      "The autoreload extension is already loaded. To reload it, use:\n",
      "  %reload_ext autoreload\n"
     ]
    }
   ],
   "source": [
    "from torch import nn\n",
    "from torch.optim import Adam\n",
    "import numpy as np\n",
    "import matplotlib.pyplot as plt\n",
    "\n",
    "from transformers import AutoTokenizer\n",
    "from utils.data_utils import AG_NEWS_DATASET\n",
    "from utils.constants import *\n",
    "from model.transformer import Transformer\n",
    "from training import Learner\n",
    "\n",
    "from quantization.binarize import binarize\n",
    "\n",
    "%load_ext autoreload\n",
    "%autoreload 2"
   ]
  },
  {
   "cell_type": "code",
   "execution_count": 6,
   "id": "d3f25f80",
   "metadata": {},
   "outputs": [],
   "source": [
    "# load dataset\n",
    "tokenizer = AutoTokenizer.from_pretrained(\"bert-base-uncased\")\n",
    "train_dl, test_dl = AG_NEWS_DATASET(tokenizer, batch_size = BATCH_SIZE).load_data()\n",
    "\n",
    "# create model\n",
    "model = Transformer(model_dimension= BASELINE_MODEL_DIMENSION,\n",
    "                    src_vocab_size=tokenizer.vocab_size,\n",
    "                    number_of_heads=BASELINE_MODEL_NUMBER_OF_HEADS,\n",
    "                    number_of_layers=BASELINE_MODEL_NUMBER_OF_LAYERS,\n",
    "                    dropout_probability=BASELINE_MODEL_DROPOUT_PROB,\n",
    "                    dim_classification=1024,\n",
    "                    num_classes=4\n",
    "                   )\n",
    "model.model_name = 'transformer'\n",
    "\n",
    "model_b = binarize(model, binarize_all_linear=True)\n",
    "model_b.model_name = 'binary_transformer'\n",
    "\n",
    "# loss func\n",
    "loss_fn = nn.CrossEntropyLoss()\n",
    "\n",
    "# simple optimizer -> to improve\n",
    "optim = Adam(model.parameters(), lr= 0.001)\n",
    "scheduler = None\n",
    "\n",
    "train_config ={'model': model_b,\n",
    "               'loss_fn': loss_fn,\n",
    "               'optim': optim,\n",
    "               'datasets': [train_dl, test_dl],\n",
    "               'epochs': 10,\n",
    "               'batch_size': BATCH_SIZE\n",
    "               }\n",
    "\n",
    "# training\n",
    "learner_ag_news = Learner(train_config)"
   ]
  },
  {
   "cell_type": "code",
   "execution_count": 7,
   "id": "e7321ebf",
   "metadata": {},
   "outputs": [],
   "source": [
    "# learner_ag_news.train()"
   ]
  },
  {
   "cell_type": "code",
   "execution_count": 8,
   "id": "7592be80",
   "metadata": {},
   "outputs": [
    {
     "name": "stdout",
     "output_type": "stream",
     "text": [
      "Transformer(\n",
      "  (src_embedding): Embedding(\n",
      "    (embeddings_table): Embedding(30522, 512)\n",
      "  )\n",
      "  (src_pos_embedding): PositionalEncoding(\n",
      "    (dropout): Dropout(p=0.1, inplace=False)\n",
      "  )\n",
      "  (encoder): Encoder(\n",
      "    (encoder_layers): ModuleList(\n",
      "      (0): EncoderLayer(\n",
      "        (sublayers): ModuleList(\n",
      "          (0): SublayerLogic(\n",
      "            (norm): LayerNorm((512,), eps=1e-05, elementwise_affine=True)\n",
      "            (dropout): Dropout(p=0.1, inplace=False)\n",
      "          )\n",
      "          (1): SublayerLogic(\n",
      "            (norm): LayerNorm((512,), eps=1e-05, elementwise_affine=True)\n",
      "            (dropout): Dropout(p=0.1, inplace=False)\n",
      "          )\n",
      "        )\n",
      "        (multi_headed_attention): MultiHeadedAttention(\n",
      "          (qkv_nets): ModuleList(\n",
      "            (0): BinarizedLinear (512 -> 512)\n",
      "            (1): BinarizedLinear (512 -> 512)\n",
      "            (2): BinarizedLinear (512 -> 512)\n",
      "          )\n",
      "          (out_projection_net): BinarizedLinear (512 -> 512)\n",
      "          (attention_dropout): Dropout(p=0.1, inplace=False)\n",
      "          (softmax): Softmax(dim=-1)\n",
      "        )\n",
      "        (pointwise_net): PositionwiseFeedForwardNet(\n",
      "          (linear1): BinarizedLinear (512 -> 2048)\n",
      "          (linear2): BinarizedLinear (2048 -> 512)\n",
      "          (dropout): Dropout(p=0.1, inplace=False)\n",
      "          (relu): ReLU()\n",
      "        )\n",
      "      )\n",
      "    )\n",
      "    (norm): LayerNorm((512,), eps=1e-05, elementwise_affine=True)\n",
      "  )\n",
      "  (classifier): Sequential(\n",
      "    (0): BinarizedLinear (512 -> 1024)\n",
      "    (1): Dropout(p=0.1, inplace=False)\n",
      "    (2): BinarizedLinear (1024 -> 4)\n",
      "  )\n",
      ")\n"
     ]
    }
   ],
   "source": [
    "print(model_b)"
   ]
  },
  {
   "cell_type": "code",
   "execution_count": 14,
   "id": "ae74afd4",
   "metadata": {},
   "outputs": [],
   "source": [
    "from quantization.binarize import BinarizedLinear\n",
    "import torch"
   ]
  },
  {
   "cell_type": "code",
   "execution_count": 18,
   "id": "9d1d2e25",
   "metadata": {},
   "outputs": [],
   "source": [
    "test_input = torch.ones((2,64))\n",
    "layer = BinarizedLinear(64,10)"
   ]
  },
  {
   "cell_type": "code",
   "execution_count": 21,
   "id": "825951ba",
   "metadata": {},
   "outputs": [],
   "source": [
    "test_out = layer(test_input)"
   ]
  },
  {
   "cell_type": "code",
   "execution_count": 23,
   "id": "d8a9b6aa",
   "metadata": {},
   "outputs": [
    {
     "data": {
      "text/plain": [
       "tensor([[  8.,   4.,  -6., -10.,  12.,   4., -12.,  -2.,  -8.,   0.],\n",
       "        [  8.,   4.,  -6., -10.,  12.,   4., -12.,  -2.,  -8.,   0.]],\n",
       "       grad_fn=<BinaryLinearFunctionBackward>)"
      ]
     },
     "execution_count": 23,
     "metadata": {},
     "output_type": "execute_result"
    }
   ],
   "source": [
    "test_out"
   ]
  },
  {
   "cell_type": "code",
   "execution_count": null,
   "id": "5f0a1e37",
   "metadata": {},
   "outputs": [],
   "source": []
  }
 ],
 "metadata": {
  "kernelspec": {
   "display_name": "Python 3 (ipykernel)",
   "language": "python",
   "name": "python3"
  },
  "language_info": {
   "codemirror_mode": {
    "name": "ipython",
    "version": 3
   },
   "file_extension": ".py",
   "mimetype": "text/x-python",
   "name": "python",
   "nbconvert_exporter": "python",
   "pygments_lexer": "ipython3",
   "version": "3.8.12"
  },
  "toc": {
   "base_numbering": 1,
   "nav_menu": {},
   "number_sections": true,
   "sideBar": true,
   "skip_h1_title": false,
   "title_cell": "Table of Contents",
   "title_sidebar": "Contents",
   "toc_cell": false,
   "toc_position": {},
   "toc_section_display": true,
   "toc_window_display": false
  },
  "varInspector": {
   "cols": {
    "lenName": 16,
    "lenType": 16,
    "lenVar": 40
   },
   "kernels_config": {
    "python": {
     "delete_cmd_postfix": "",
     "delete_cmd_prefix": "del ",
     "library": "var_list.py",
     "varRefreshCmd": "print(var_dic_list())"
    },
    "r": {
     "delete_cmd_postfix": ") ",
     "delete_cmd_prefix": "rm(",
     "library": "var_list.r",
     "varRefreshCmd": "cat(var_dic_list()) "
    }
   },
   "types_to_exclude": [
    "module",
    "function",
    "builtin_function_or_method",
    "instance",
    "_Feature"
   ],
   "window_display": false
  }
 },
 "nbformat": 4,
 "nbformat_minor": 5
}
