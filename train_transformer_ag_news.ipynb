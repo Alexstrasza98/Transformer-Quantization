{
 "cells": [
  {
   "cell_type": "code",
   "execution_count": 60,
   "id": "2edbf7a2",
   "metadata": {},
   "outputs": [
    {
     "name": "stdout",
     "output_type": "stream",
     "text": [
      "The autoreload extension is already loaded. To reload it, use:\n",
      "  %reload_ext autoreload\n"
     ]
    }
   ],
   "source": [
    "import torch\n",
    "from torch import nn\n",
    "from torch.optim import Adam, SGD\n",
    "from torch.optim.lr_scheduler import MultiStepLR\n",
    "import numpy as np\n",
    "import matplotlib.pyplot as plt\n",
    "\n",
    "from transformers import AutoTokenizer\n",
    "from utils.data_utils import AG_NEWS_DATASET\n",
    "from utils.constants import *\n",
    "# from model.transformer import Transformer\n",
    "from training import Learner\n",
    "\n",
    "from quantization.binarize import binarize\n",
    "from quantization.transformer_raw import Transformer\n",
    "\n",
    "%load_ext autoreload\n",
    "%autoreload 2"
   ]
  },
  {
   "cell_type": "code",
   "execution_count": 70,
   "id": "d3f25f80",
   "metadata": {},
   "outputs": [
    {
     "name": "stderr",
     "output_type": "stream",
     "text": [
      "/opt/conda/lib/python3.7/site-packages/torch/utils/data/datapipes/utils/common.py:25: UserWarning: Lambda function is not supported for pickle, please use regular python function or functools.partial instead.\n",
      "  \"Lambda function is not supported for pickle, please use \"\n"
     ]
    }
   ],
   "source": [
    "# load dataset\n",
    "tokenizer = AutoTokenizer.from_pretrained(\"bert-base-uncased\")\n",
    "train_dl, test_dl = AG_NEWS_DATASET(tokenizer, batch_size = BATCH_SIZE).load_data()\n",
    "\n",
    "# create model\n",
    "model = Transformer(d_model=BASELINE_MODEL_DIMENSION,\n",
    "                    vocab=tokenizer.vocab_size,\n",
    "                    h=BASELINE_MODEL_NUMBER_OF_HEADS,\n",
    "                    n_layers=BASELINE_MODEL_NUMBER_OF_LAYERS,\n",
    "                    d_ff =512,\n",
    "                    n_class=4\n",
    "                   )\n",
    "model.model_name = 'transformer'\n",
    "\n",
    "# model_b = binarize(model, binarize_all_linear=True)\n",
    "# model_b.model_name = 'binary_transformer'\n",
    "\n",
    "# loss func\n",
    "loss_fn = nn.CrossEntropyLoss()\n",
    "\n",
    "# simple optimizer -> to improve\n",
    "optim = Adam(model.parameters(), lr= 1e-4)\n",
    "scheduler = MultiStepLR(optim, milestones=[10,15], gamma=0.1)\n",
    "\n",
    "train_config ={'model': model,\n",
    "               'loss_fn': loss_fn,\n",
    "               'optim': optim,\n",
    "               'scheduler': scheduler,\n",
    "               'datasets': [train_dl, test_dl],\n",
    "               'epochs': 10,\n",
    "               'batch_size': BATCH_SIZE\n",
    "               }\n",
    "\n",
    "# training\n",
    "learner_ag_news = Learner(train_config)"
   ]
  },
  {
   "cell_type": "code",
   "execution_count": 71,
   "id": "e7321ebf",
   "metadata": {},
   "outputs": [],
   "source": [
    "# learner_ag_news.train()"
   ]
  },
  {
   "cell_type": "code",
   "execution_count": 72,
   "id": "bc075a57",
   "metadata": {},
   "outputs": [
    {
     "name": "stdout",
     "output_type": "stream",
     "text": [
      "Transformer(\n",
      "  (input_embeddings): Embeddings(\n",
      "    (token_embedding): Embedding(30522, 512)\n",
      "    (pos_embedding): Embedding(512, 512)\n",
      "  )\n",
      "  (input_encodings): PositionalEncoding(\n",
      "    (dropout): Dropout(p=0.1, inplace=False)\n",
      "  )\n",
      "  (sublayer_attention): ModuleList(\n",
      "    (0): sublayerConnectionAttention(\n",
      "      (multiheads): MultiheadAttention(\n",
      "        (output): Linear(in_features=512, out_features=512, bias=True)\n",
      "        (dropout): Dropout(p=0.1, inplace=False)\n",
      "      )\n",
      "      (layernorm): LayerNorm()\n",
      "      (dropout): Dropout(p=0.1, inplace=False)\n",
      "    )\n",
      "    (1): sublayerConnectionAttention(\n",
      "      (multiheads): MultiheadAttention(\n",
      "        (output): Linear(in_features=512, out_features=512, bias=True)\n",
      "        (dropout): Dropout(p=0.1, inplace=False)\n",
      "      )\n",
      "      (layernorm): LayerNorm()\n",
      "      (dropout): Dropout(p=0.1, inplace=False)\n",
      "    )\n",
      "  )\n",
      "  (sublayer_ffn): ModuleList(\n",
      "    (0): sublayerConnectionFFN(\n",
      "      (ffn): PositionalWiseFFN(\n",
      "        (w_1): Linear(in_features=512, out_features=512, bias=True)\n",
      "        (w_2): Linear(in_features=512, out_features=512, bias=True)\n",
      "        (dropout): Dropout(p=0.1, inplace=False)\n",
      "      )\n",
      "      (layernorm): LayerNorm()\n",
      "      (dropout): Dropout(p=0.1, inplace=False)\n",
      "    )\n",
      "    (1): sublayerConnectionFFN(\n",
      "      (ffn): PositionalWiseFFN(\n",
      "        (w_1): Linear(in_features=512, out_features=512, bias=True)\n",
      "        (w_2): Linear(in_features=512, out_features=512, bias=True)\n",
      "        (dropout): Dropout(p=0.1, inplace=False)\n",
      "      )\n",
      "      (layernorm): LayerNorm()\n",
      "      (dropout): Dropout(p=0.1, inplace=False)\n",
      "    )\n",
      "  )\n",
      "  (classifier): Classifier(\n",
      "    (hidden): Linear(in_features=512, out_features=1024, bias=True)\n",
      "    (classifier): Linear(in_features=512, out_features=4, bias=True)\n",
      "  )\n",
      ")\n"
     ]
    }
   ],
   "source": [
    "print(model)"
   ]
  },
  {
   "cell_type": "code",
   "execution_count": 73,
   "id": "7d7a59c2",
   "metadata": {},
   "outputs": [],
   "source": [
    "from utils.utils import count_memory_size"
   ]
  },
  {
   "cell_type": "code",
   "execution_count": 74,
   "id": "581cdf9e",
   "metadata": {},
   "outputs": [
    {
     "data": {
      "text/plain": [
       "71987216"
      ]
     },
     "execution_count": 74,
     "metadata": {},
     "output_type": "execute_result"
    }
   ],
   "source": [
    "count_memory_size(model)"
   ]
  },
  {
   "cell_type": "code",
   "execution_count": 75,
   "id": "90a45c28",
   "metadata": {},
   "outputs": [
    {
     "name": "stdout",
     "output_type": "stream",
     "text": [
      "input_embeddings: 7.5398301980263795\n",
      "input_encodings: 0.0\n",
      "sublayer_attention: 0.2502424793441764\n",
      "sublayer_ffn: 0.49951314323458906\n",
      "classifier: 0.25024437742123457\n"
     ]
    }
   ],
   "source": [
    "total = count_memory_size(model) - count_memory_size(model.input_embeddings)\n",
    "for name, layer in model.named_children():\n",
    "    print(f'{name}: {count_memory_size(layer)/total}')"
   ]
  },
  {
   "cell_type": "code",
   "execution_count": null,
   "id": "7efd0ba7",
   "metadata": {},
   "outputs": [],
   "source": []
  }
 ],
 "metadata": {
  "kernelspec": {
   "display_name": "Python 3",
   "language": "python",
   "name": "python3"
  },
  "language_info": {
   "codemirror_mode": {
    "name": "ipython",
    "version": 3
   },
   "file_extension": ".py",
   "mimetype": "text/x-python",
   "name": "python",
   "nbconvert_exporter": "python",
   "pygments_lexer": "ipython3",
   "version": "3.7.12"
  },
  "toc": {
   "base_numbering": 1,
   "nav_menu": {},
   "number_sections": true,
   "sideBar": true,
   "skip_h1_title": false,
   "title_cell": "Table of Contents",
   "title_sidebar": "Contents",
   "toc_cell": false,
   "toc_position": {},
   "toc_section_display": true,
   "toc_window_display": false
  },
  "varInspector": {
   "cols": {
    "lenName": 16,
    "lenType": 16,
    "lenVar": 40
   },
   "kernels_config": {
    "python": {
     "delete_cmd_postfix": "",
     "delete_cmd_prefix": "del ",
     "library": "var_list.py",
     "varRefreshCmd": "print(var_dic_list())"
    },
    "r": {
     "delete_cmd_postfix": ") ",
     "delete_cmd_prefix": "rm(",
     "library": "var_list.r",
     "varRefreshCmd": "cat(var_dic_list()) "
    }
   },
   "types_to_exclude": [
    "module",
    "function",
    "builtin_function_or_method",
    "instance",
    "_Feature"
   ],
   "window_display": false
  }
 },
 "nbformat": 4,
 "nbformat_minor": 5
}
